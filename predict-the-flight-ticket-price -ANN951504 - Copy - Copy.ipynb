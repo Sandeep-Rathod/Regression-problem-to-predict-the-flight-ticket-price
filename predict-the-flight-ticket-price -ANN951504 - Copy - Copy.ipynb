{
 "cells": [
  {
   "cell_type": "markdown",
   "metadata": {
    "colab_type": "text",
    "id": "3g6Xb7vS2mfo"
   },
   "source": [
    "### 1. Dataset Description  <a id='columns'>\n",
    "\n",
    "SSize of training set: 10683 records\n",
    "\n",
    "Size of test set: 2671 records\n",
    "\n",
    "FEATURES:\n",
    "Airline: The name of the airline.\n",
    "\n",
    "Date_of_Journey: The date of the journey\n",
    "\n",
    "Source: The source from which the service begins.\n",
    "\n",
    "Destination: The destination where the service ends.\n",
    "\n",
    "Route: The route taken by the flight to reach the destination.\n",
    "\n",
    "Dep_Time: The time when the journey starts from the source.\n",
    "\n",
    "Arrival_Time: Time of arrival at the destination.\n",
    "\n",
    "Duration: Total duration of the flight.\n",
    "\n",
    "Total_Stops: Total stops between the source and destination.\n",
    "\n",
    "Additional_Info: Additional information about the flight\n",
    "\n",
    "Price: The price of the ticket\n",
    "\n",
    "Flight ticket prices can be something hard to guess, today we might see a price, check out the price of the same flight tomorrow, it will be a different story. We might have often heard travellers saying that flight ticket prices are so unpredictable. Huh! Here we take on the challenge! As data scientists, we are gonna prove that given the right data anything can be predicted. Here you will be provided with prices of flight tickets for various airlines between the months of March and June of 2019 and between various cities."
   ]
  },
  {
   "cell_type": "code",
   "execution_count": 1,
   "metadata": {
    "scrolled": true
   },
   "outputs": [
    {
     "name": "stderr",
     "output_type": "stream",
     "text": [
      "C:\\Users\\sandeep.rathod\\AppData\\Local\\Continuum\\anaconda3\\lib\\site-packages\\pandas_profiling\\plot.py:15: UserWarning: \n",
      "This call to matplotlib.use() has no effect because the backend has already\n",
      "been chosen; matplotlib.use() must be called *before* pylab, matplotlib.pyplot,\n",
      "or matplotlib.backends is imported for the first time.\n",
      "\n",
      "The backend was *originally* set to 'module://ipykernel.pylab.backend_inline' by the following code:\n",
      "  File \"C:\\Users\\sandeep.rathod\\AppData\\Local\\Continuum\\anaconda3\\lib\\runpy.py\", line 193, in _run_module_as_main\n",
      "    \"__main__\", mod_spec)\n",
      "  File \"C:\\Users\\sandeep.rathod\\AppData\\Local\\Continuum\\anaconda3\\lib\\runpy.py\", line 85, in _run_code\n",
      "    exec(code, run_globals)\n",
      "  File \"C:\\Users\\sandeep.rathod\\AppData\\Local\\Continuum\\anaconda3\\lib\\site-packages\\ipykernel_launcher.py\", line 16, in <module>\n",
      "    app.launch_new_instance()\n",
      "  File \"C:\\Users\\sandeep.rathod\\AppData\\Local\\Continuum\\anaconda3\\lib\\site-packages\\traitlets\\config\\application.py\", line 658, in launch_instance\n",
      "    app.start()\n",
      "  File \"C:\\Users\\sandeep.rathod\\AppData\\Local\\Continuum\\anaconda3\\lib\\site-packages\\ipykernel\\kernelapp.py\", line 486, in start\n",
      "    self.io_loop.start()\n",
      "  File \"C:\\Users\\sandeep.rathod\\AppData\\Local\\Continuum\\anaconda3\\lib\\site-packages\\tornado\\platform\\asyncio.py\", line 127, in start\n",
      "    self.asyncio_loop.run_forever()\n",
      "  File \"C:\\Users\\sandeep.rathod\\AppData\\Local\\Continuum\\anaconda3\\lib\\asyncio\\base_events.py\", line 422, in run_forever\n",
      "    self._run_once()\n",
      "  File \"C:\\Users\\sandeep.rathod\\AppData\\Local\\Continuum\\anaconda3\\lib\\asyncio\\base_events.py\", line 1432, in _run_once\n",
      "    handle._run()\n",
      "  File \"C:\\Users\\sandeep.rathod\\AppData\\Local\\Continuum\\anaconda3\\lib\\asyncio\\events.py\", line 145, in _run\n",
      "    self._callback(*self._args)\n",
      "  File \"C:\\Users\\sandeep.rathod\\AppData\\Local\\Continuum\\anaconda3\\lib\\site-packages\\tornado\\platform\\asyncio.py\", line 117, in _handle_events\n",
      "    handler_func(fileobj, events)\n",
      "  File \"C:\\Users\\sandeep.rathod\\AppData\\Local\\Continuum\\anaconda3\\lib\\site-packages\\tornado\\stack_context.py\", line 276, in null_wrapper\n",
      "    return fn(*args, **kwargs)\n",
      "  File \"C:\\Users\\sandeep.rathod\\AppData\\Local\\Continuum\\anaconda3\\lib\\site-packages\\zmq\\eventloop\\zmqstream.py\", line 450, in _handle_events\n",
      "    self._handle_recv()\n",
      "  File \"C:\\Users\\sandeep.rathod\\AppData\\Local\\Continuum\\anaconda3\\lib\\site-packages\\zmq\\eventloop\\zmqstream.py\", line 480, in _handle_recv\n",
      "    self._run_callback(callback, msg)\n",
      "  File \"C:\\Users\\sandeep.rathod\\AppData\\Local\\Continuum\\anaconda3\\lib\\site-packages\\zmq\\eventloop\\zmqstream.py\", line 432, in _run_callback\n",
      "    callback(*args, **kwargs)\n",
      "  File \"C:\\Users\\sandeep.rathod\\AppData\\Local\\Continuum\\anaconda3\\lib\\site-packages\\tornado\\stack_context.py\", line 276, in null_wrapper\n",
      "    return fn(*args, **kwargs)\n",
      "  File \"C:\\Users\\sandeep.rathod\\AppData\\Local\\Continuum\\anaconda3\\lib\\site-packages\\ipykernel\\kernelbase.py\", line 283, in dispatcher\n",
      "    return self.dispatch_shell(stream, msg)\n",
      "  File \"C:\\Users\\sandeep.rathod\\AppData\\Local\\Continuum\\anaconda3\\lib\\site-packages\\ipykernel\\kernelbase.py\", line 233, in dispatch_shell\n",
      "    handler(stream, idents, msg)\n",
      "  File \"C:\\Users\\sandeep.rathod\\AppData\\Local\\Continuum\\anaconda3\\lib\\site-packages\\ipykernel\\kernelbase.py\", line 399, in execute_request\n",
      "    user_expressions, allow_stdin)\n",
      "  File \"C:\\Users\\sandeep.rathod\\AppData\\Local\\Continuum\\anaconda3\\lib\\site-packages\\ipykernel\\ipkernel.py\", line 208, in do_execute\n",
      "    res = shell.run_cell(code, store_history=store_history, silent=silent)\n",
      "  File \"C:\\Users\\sandeep.rathod\\AppData\\Local\\Continuum\\anaconda3\\lib\\site-packages\\ipykernel\\zmqshell.py\", line 537, in run_cell\n",
      "    return super(ZMQInteractiveShell, self).run_cell(*args, **kwargs)\n",
      "  File \"C:\\Users\\sandeep.rathod\\AppData\\Local\\Continuum\\anaconda3\\lib\\site-packages\\IPython\\core\\interactiveshell.py\", line 2662, in run_cell\n",
      "    raw_cell, store_history, silent, shell_futures)\n",
      "  File \"C:\\Users\\sandeep.rathod\\AppData\\Local\\Continuum\\anaconda3\\lib\\site-packages\\IPython\\core\\interactiveshell.py\", line 2785, in _run_cell\n",
      "    interactivity=interactivity, compiler=compiler, result=result)\n",
      "  File \"C:\\Users\\sandeep.rathod\\AppData\\Local\\Continuum\\anaconda3\\lib\\site-packages\\IPython\\core\\interactiveshell.py\", line 2903, in run_ast_nodes\n",
      "    if self.run_code(code, result):\n",
      "  File \"C:\\Users\\sandeep.rathod\\AppData\\Local\\Continuum\\anaconda3\\lib\\site-packages\\IPython\\core\\interactiveshell.py\", line 2963, in run_code\n",
      "    exec(code_obj, self.user_global_ns, self.user_ns)\n",
      "  File \"<ipython-input-1-1531cf384148>\", line 6, in <module>\n",
      "    get_ipython().run_line_magic('matplotlib', 'inline')\n",
      "  File \"C:\\Users\\sandeep.rathod\\AppData\\Local\\Continuum\\anaconda3\\lib\\site-packages\\IPython\\core\\interactiveshell.py\", line 2131, in run_line_magic\n",
      "    result = fn(*args,**kwargs)\n",
      "  File \"<decorator-gen-108>\", line 2, in matplotlib\n",
      "  File \"C:\\Users\\sandeep.rathod\\AppData\\Local\\Continuum\\anaconda3\\lib\\site-packages\\IPython\\core\\magic.py\", line 187, in <lambda>\n",
      "    call = lambda f, *a, **k: f(*a, **k)\n",
      "  File \"C:\\Users\\sandeep.rathod\\AppData\\Local\\Continuum\\anaconda3\\lib\\site-packages\\IPython\\core\\magics\\pylab.py\", line 99, in matplotlib\n",
      "    gui, backend = self.shell.enable_matplotlib(args.gui)\n",
      "  File \"C:\\Users\\sandeep.rathod\\AppData\\Local\\Continuum\\anaconda3\\lib\\site-packages\\IPython\\core\\interactiveshell.py\", line 3051, in enable_matplotlib\n",
      "    pt.activate_matplotlib(backend)\n",
      "  File \"C:\\Users\\sandeep.rathod\\AppData\\Local\\Continuum\\anaconda3\\lib\\site-packages\\IPython\\core\\pylabtools.py\", line 311, in activate_matplotlib\n",
      "    matplotlib.pyplot.switch_backend(backend)\n",
      "  File \"C:\\Users\\sandeep.rathod\\AppData\\Local\\Continuum\\anaconda3\\lib\\site-packages\\matplotlib\\pyplot.py\", line 231, in switch_backend\n",
      "    matplotlib.use(newbackend, warn=False, force=True)\n",
      "  File \"C:\\Users\\sandeep.rathod\\AppData\\Local\\Continuum\\anaconda3\\lib\\site-packages\\matplotlib\\__init__.py\", line 1410, in use\n",
      "    reload(sys.modules['matplotlib.backends'])\n",
      "  File \"C:\\Users\\sandeep.rathod\\AppData\\Local\\Continuum\\anaconda3\\lib\\importlib\\__init__.py\", line 166, in reload\n",
      "    _bootstrap._exec(spec, module)\n",
      "  File \"C:\\Users\\sandeep.rathod\\AppData\\Local\\Continuum\\anaconda3\\lib\\site-packages\\matplotlib\\backends\\__init__.py\", line 16, in <module>\n",
      "    line for line in traceback.format_stack()\n",
      "\n",
      "\n",
      "  matplotlib.use(BACKEND)\n"
     ]
    }
   ],
   "source": [
    "import numpy as np\n",
    "import pandas as pd\n",
    "\n",
    "from matplotlib import pyplot as plt\n",
    "import matplotlib\n",
    "%matplotlib inline\n",
    "import seaborn as sns\n",
    "    import pandas_profiling\n",
    "matplotlib.rc('xtick', labelsize=20) \n",
    "matplotlib.rc('ytick', labelsize=20)\n",
    "from sklearn.model_selection import train_test_split\n",
    "from sklearn.linear_model import SGDClassifier\n",
    "from sklearn.metrics import f1_score, log_loss\n",
    "from sklearn.neural_network import MLPClassifier\n",
    "from sklearn.neighbors import KNeighborsClassifier\n",
    "from sklearn.svm import SVC\n",
    "from sklearn.gaussian_process.kernels import RBF\n",
    "from sklearn.ensemble import RandomForestClassifier, AdaBoostClassifier\n",
    "from sklearn.naive_bayes import GaussianNB\n",
    "from xgboost.sklearn import XGBClassifier\n",
    "from sklearn.ensemble import ExtraTreesClassifier\n",
    "from sklearn.model_selection import GridSearchCV\n",
    "from sklearn.ensemble import BaggingClassifier\n",
    "from sklearn.model_selection import KFold\n",
    "from sklearn import metrics\n",
    "from sklearn.feature_selection import SelectKBest \n",
    "from sklearn.feature_selection import chi2\n",
    "import collections\n",
    "import warnings\n",
    "warnings.filterwarnings('ignore')\n",
    "%matplotlib inline\n",
    "from collections import Counter\n"
   ]
  },
  {
   "cell_type": "code",
   "execution_count": 205,
   "metadata": {},
   "outputs": [],
   "source": [
    "from IPython.core.interactiveshell import InteractiveShell\n",
    "InteractiveShell.ast_mode_interactivity = \"all\""
   ]
  },
  {
   "cell_type": "code",
   "execution_count": 575,
   "metadata": {
    "scrolled": false
   },
   "outputs": [],
   "source": [
    "x1=pd.ExcelFile(r'Data_Train.xlsx')\n",
    "x2=pd.ExcelFile(r'Test_set.xlsx')"
   ]
  },
  {
   "cell_type": "code",
   "execution_count": 576,
   "metadata": {},
   "outputs": [
    {
     "data": {
      "text/plain": [
       "['Sheet1']"
      ]
     },
     "execution_count": 576,
     "metadata": {},
     "output_type": "execute_result"
    }
   ],
   "source": [
    "x1.sheet_names"
   ]
  },
  {
   "cell_type": "markdown",
   "metadata": {},
   "source": [
    "### create a list of six columns\n",
    "\n",
    "1. Qualification\n",
    "2. Experience\n",
    "3. Rating\n",
    "4. Place\n",
    "5. Profile\n",
    "6. Miscellaneous_Info\n",
    "7. Fees"
   ]
  },
  {
   "cell_type": "code",
   "execution_count": 577,
   "metadata": {},
   "outputs": [],
   "source": [
    "# Define the columns to be read"
   ]
  },
  {
   "cell_type": "code",
   "execution_count": 578,
   "metadata": {},
   "outputs": [],
   "source": [
    "columns_read=['Airline','Date_of_Journey','Source','Destination','Route','Dep_Time','Arrival_Time','Duration','Total_Stops','Additional_Info'\n",
    "             ,'Price']\n",
    "columns_readt=['Airline','Date_of_Journey','Source','Destination','Route','Dep_Time','Arrival_Time','Duration','Total_Stops','Additional_Info']"
   ]
  },
  {
   "cell_type": "markdown",
   "metadata": {},
   "source": [
    "### parse the data and read the six columns present in 7.1 sheet of data and skip first six rows and set skipfooter=14 and the column names as the list defined above"
   ]
  },
  {
   "cell_type": "code",
   "execution_count": 579,
   "metadata": {
    "scrolled": true
   },
   "outputs": [
    {
     "data": {
      "text/html": [
       "<div>\n",
       "<style scoped>\n",
       "    .dataframe tbody tr th:only-of-type {\n",
       "        vertical-align: middle;\n",
       "    }\n",
       "\n",
       "    .dataframe tbody tr th {\n",
       "        vertical-align: top;\n",
       "    }\n",
       "\n",
       "    .dataframe thead th {\n",
       "        text-align: right;\n",
       "    }\n",
       "</style>\n",
       "<table border=\"1\" class=\"dataframe\">\n",
       "  <thead>\n",
       "    <tr style=\"text-align: right;\">\n",
       "      <th></th>\n",
       "      <th>Airline</th>\n",
       "      <th>Date_of_Journey</th>\n",
       "      <th>Source</th>\n",
       "      <th>Destination</th>\n",
       "      <th>Route</th>\n",
       "      <th>Dep_Time</th>\n",
       "      <th>Arrival_Time</th>\n",
       "      <th>Duration</th>\n",
       "      <th>Total_Stops</th>\n",
       "      <th>Additional_Info</th>\n",
       "      <th>Price</th>\n",
       "    </tr>\n",
       "  </thead>\n",
       "  <tbody>\n",
       "    <tr>\n",
       "      <th>0</th>\n",
       "      <td>IndiGo</td>\n",
       "      <td>24/03/2019</td>\n",
       "      <td>Banglore</td>\n",
       "      <td>New Delhi</td>\n",
       "      <td>BLR → DEL</td>\n",
       "      <td>22:20</td>\n",
       "      <td>01:10 22 Mar</td>\n",
       "      <td>2h 50m</td>\n",
       "      <td>non-stop</td>\n",
       "      <td>No info</td>\n",
       "      <td>3897</td>\n",
       "    </tr>\n",
       "    <tr>\n",
       "      <th>1</th>\n",
       "      <td>Air India</td>\n",
       "      <td>1/05/2019</td>\n",
       "      <td>Kolkata</td>\n",
       "      <td>Banglore</td>\n",
       "      <td>CCU → IXR → BBI → BLR</td>\n",
       "      <td>05:50</td>\n",
       "      <td>13:15</td>\n",
       "      <td>7h 25m</td>\n",
       "      <td>2 stops</td>\n",
       "      <td>No info</td>\n",
       "      <td>7662</td>\n",
       "    </tr>\n",
       "    <tr>\n",
       "      <th>2</th>\n",
       "      <td>Jet Airways</td>\n",
       "      <td>9/06/2019</td>\n",
       "      <td>Delhi</td>\n",
       "      <td>Cochin</td>\n",
       "      <td>DEL → LKO → BOM → COK</td>\n",
       "      <td>09:25</td>\n",
       "      <td>04:25 10 Jun</td>\n",
       "      <td>19h</td>\n",
       "      <td>2 stops</td>\n",
       "      <td>No info</td>\n",
       "      <td>13882</td>\n",
       "    </tr>\n",
       "    <tr>\n",
       "      <th>3</th>\n",
       "      <td>IndiGo</td>\n",
       "      <td>12/05/2019</td>\n",
       "      <td>Kolkata</td>\n",
       "      <td>Banglore</td>\n",
       "      <td>CCU → NAG → BLR</td>\n",
       "      <td>18:05</td>\n",
       "      <td>23:30</td>\n",
       "      <td>5h 25m</td>\n",
       "      <td>1 stop</td>\n",
       "      <td>No info</td>\n",
       "      <td>6218</td>\n",
       "    </tr>\n",
       "    <tr>\n",
       "      <th>4</th>\n",
       "      <td>IndiGo</td>\n",
       "      <td>01/03/2019</td>\n",
       "      <td>Banglore</td>\n",
       "      <td>New Delhi</td>\n",
       "      <td>BLR → NAG → DEL</td>\n",
       "      <td>16:50</td>\n",
       "      <td>21:35</td>\n",
       "      <td>4h 45m</td>\n",
       "      <td>1 stop</td>\n",
       "      <td>No info</td>\n",
       "      <td>13302</td>\n",
       "    </tr>\n",
       "  </tbody>\n",
       "</table>\n",
       "</div>"
      ],
      "text/plain": [
       "       Airline Date_of_Journey    Source Destination                  Route  \\\n",
       "0       IndiGo      24/03/2019  Banglore   New Delhi              BLR → DEL   \n",
       "1    Air India       1/05/2019   Kolkata    Banglore  CCU → IXR → BBI → BLR   \n",
       "2  Jet Airways       9/06/2019     Delhi      Cochin  DEL → LKO → BOM → COK   \n",
       "3       IndiGo      12/05/2019   Kolkata    Banglore        CCU → NAG → BLR   \n",
       "4       IndiGo      01/03/2019  Banglore   New Delhi        BLR → NAG → DEL   \n",
       "\n",
       "  Dep_Time  Arrival_Time Duration Total_Stops Additional_Info  Price  \n",
       "0    22:20  01:10 22 Mar   2h 50m    non-stop         No info   3897  \n",
       "1    05:50         13:15   7h 25m     2 stops         No info   7662  \n",
       "2    09:25  04:25 10 Jun      19h     2 stops         No info  13882  \n",
       "3    18:05         23:30   5h 25m      1 stop         No info   6218  \n",
       "4    16:50         21:35   4h 45m      1 stop         No info  13302  "
      ]
     },
     "execution_count": 579,
     "metadata": {},
     "output_type": "execute_result"
    }
   ],
   "source": [
    "ds_input = x1.parse(u'Sheet1',names=columns_read)\n",
    "ds_input.head()"
   ]
  },
  {
   "cell_type": "code",
   "execution_count": 580,
   "metadata": {
    "scrolled": true
   },
   "outputs": [
    {
     "data": {
      "text/html": [
       "<div>\n",
       "<style scoped>\n",
       "    .dataframe tbody tr th:only-of-type {\n",
       "        vertical-align: middle;\n",
       "    }\n",
       "\n",
       "    .dataframe tbody tr th {\n",
       "        vertical-align: top;\n",
       "    }\n",
       "\n",
       "    .dataframe thead th {\n",
       "        text-align: right;\n",
       "    }\n",
       "</style>\n",
       "<table border=\"1\" class=\"dataframe\">\n",
       "  <thead>\n",
       "    <tr style=\"text-align: right;\">\n",
       "      <th></th>\n",
       "      <th>Airline</th>\n",
       "      <th>Date_of_Journey</th>\n",
       "      <th>Source</th>\n",
       "      <th>Destination</th>\n",
       "      <th>Route</th>\n",
       "      <th>Dep_Time</th>\n",
       "      <th>Arrival_Time</th>\n",
       "      <th>Duration</th>\n",
       "      <th>Total_Stops</th>\n",
       "      <th>Additional_Info</th>\n",
       "    </tr>\n",
       "  </thead>\n",
       "  <tbody>\n",
       "    <tr>\n",
       "      <th>0</th>\n",
       "      <td>Jet Airways</td>\n",
       "      <td>6/06/2019</td>\n",
       "      <td>Delhi</td>\n",
       "      <td>Cochin</td>\n",
       "      <td>DEL → BOM → COK</td>\n",
       "      <td>17:30</td>\n",
       "      <td>04:25 07 Jun</td>\n",
       "      <td>10h 55m</td>\n",
       "      <td>1 stop</td>\n",
       "      <td>No info</td>\n",
       "    </tr>\n",
       "    <tr>\n",
       "      <th>1</th>\n",
       "      <td>IndiGo</td>\n",
       "      <td>12/05/2019</td>\n",
       "      <td>Kolkata</td>\n",
       "      <td>Banglore</td>\n",
       "      <td>CCU → MAA → BLR</td>\n",
       "      <td>06:20</td>\n",
       "      <td>10:20</td>\n",
       "      <td>4h</td>\n",
       "      <td>1 stop</td>\n",
       "      <td>No info</td>\n",
       "    </tr>\n",
       "    <tr>\n",
       "      <th>2</th>\n",
       "      <td>Jet Airways</td>\n",
       "      <td>21/05/2019</td>\n",
       "      <td>Delhi</td>\n",
       "      <td>Cochin</td>\n",
       "      <td>DEL → BOM → COK</td>\n",
       "      <td>19:15</td>\n",
       "      <td>19:00 22 May</td>\n",
       "      <td>23h 45m</td>\n",
       "      <td>1 stop</td>\n",
       "      <td>In-flight meal not included</td>\n",
       "    </tr>\n",
       "    <tr>\n",
       "      <th>3</th>\n",
       "      <td>Multiple carriers</td>\n",
       "      <td>21/05/2019</td>\n",
       "      <td>Delhi</td>\n",
       "      <td>Cochin</td>\n",
       "      <td>DEL → BOM → COK</td>\n",
       "      <td>08:00</td>\n",
       "      <td>21:00</td>\n",
       "      <td>13h</td>\n",
       "      <td>1 stop</td>\n",
       "      <td>No info</td>\n",
       "    </tr>\n",
       "    <tr>\n",
       "      <th>4</th>\n",
       "      <td>Air Asia</td>\n",
       "      <td>24/06/2019</td>\n",
       "      <td>Banglore</td>\n",
       "      <td>Delhi</td>\n",
       "      <td>BLR → DEL</td>\n",
       "      <td>23:55</td>\n",
       "      <td>02:45 25 Jun</td>\n",
       "      <td>2h 50m</td>\n",
       "      <td>non-stop</td>\n",
       "      <td>No info</td>\n",
       "    </tr>\n",
       "  </tbody>\n",
       "</table>\n",
       "</div>"
      ],
      "text/plain": [
       "             Airline Date_of_Journey    Source Destination            Route  \\\n",
       "0        Jet Airways       6/06/2019     Delhi      Cochin  DEL → BOM → COK   \n",
       "1             IndiGo      12/05/2019   Kolkata    Banglore  CCU → MAA → BLR   \n",
       "2        Jet Airways      21/05/2019     Delhi      Cochin  DEL → BOM → COK   \n",
       "3  Multiple carriers      21/05/2019     Delhi      Cochin  DEL → BOM → COK   \n",
       "4           Air Asia      24/06/2019  Banglore       Delhi        BLR → DEL   \n",
       "\n",
       "  Dep_Time  Arrival_Time Duration Total_Stops              Additional_Info  \n",
       "0    17:30  04:25 07 Jun  10h 55m      1 stop                      No info  \n",
       "1    06:20         10:20       4h      1 stop                      No info  \n",
       "2    19:15  19:00 22 May  23h 45m      1 stop  In-flight meal not included  \n",
       "3    08:00         21:00      13h      1 stop                      No info  \n",
       "4    23:55  02:45 25 Jun   2h 50m    non-stop                      No info  "
      ]
     },
     "execution_count": 580,
     "metadata": {},
     "output_type": "execute_result"
    }
   ],
   "source": [
    "dst_input = x2.parse(u'Sheet1',names=columns_readt)\n",
    "dst_input.head()"
   ]
  },
  {
   "cell_type": "code",
   "execution_count": 581,
   "metadata": {
    "scrolled": true
   },
   "outputs": [],
   "source": [
    "#report = pandas_profiling.ProfileReport(ds_input)\n",
    "#covert profile report as html file\n",
    "#report.to_file(\"ds_input.html\")"
   ]
  },
  {
   "cell_type": "code",
   "execution_count": 582,
   "metadata": {
    "scrolled": false
   },
   "outputs": [
    {
     "name": "stdout",
     "output_type": "stream",
     "text": [
      "<class 'pandas.core.frame.DataFrame'>\n",
      "RangeIndex: 10683 entries, 0 to 10682\n",
      "Data columns (total 11 columns):\n",
      "Airline            10683 non-null object\n",
      "Date_of_Journey    10683 non-null object\n",
      "Source             10683 non-null object\n",
      "Destination        10683 non-null object\n",
      "Route              10683 non-null object\n",
      "Dep_Time           10683 non-null object\n",
      "Arrival_Time       10683 non-null object\n",
      "Duration           10683 non-null object\n",
      "Total_Stops        10683 non-null object\n",
      "Additional_Info    10683 non-null object\n",
      "Price              10683 non-null int64\n",
      "dtypes: int64(1), object(10)\n",
      "memory usage: 918.1+ KB\n"
     ]
    }
   ],
   "source": [
    " ds_input.info()"
   ]
  },
  {
   "cell_type": "code",
   "execution_count": 583,
   "metadata": {},
   "outputs": [
    {
     "name": "stdout",
     "output_type": "stream",
     "text": [
      "<class 'pandas.core.frame.DataFrame'>\n",
      "RangeIndex: 2671 entries, 0 to 2670\n",
      "Data columns (total 10 columns):\n",
      "Airline            2671 non-null object\n",
      "Date_of_Journey    2671 non-null object\n",
      "Source             2671 non-null object\n",
      "Destination        2671 non-null object\n",
      "Route              2671 non-null object\n",
      "Dep_Time           2671 non-null object\n",
      "Arrival_Time       2671 non-null object\n",
      "Duration           2671 non-null object\n",
      "Total_Stops        2671 non-null object\n",
      "Additional_Info    2671 non-null object\n",
      "dtypes: object(10)\n",
      "memory usage: 208.8+ KB\n"
     ]
    }
   ],
   "source": [
    "dst_input.info()"
   ]
  },
  {
   "cell_type": "code",
   "execution_count": 584,
   "metadata": {
    "scrolled": false
   },
   "outputs": [
    {
     "name": "stdout",
     "output_type": "stream",
     "text": [
      "<class 'pandas.core.frame.DataFrame'>\n",
      "Int64Index: 10463 entries, 0 to 10682\n",
      "Data columns (total 11 columns):\n",
      "Airline            10463 non-null object\n",
      "Date_of_Journey    10463 non-null object\n",
      "Source             10463 non-null object\n",
      "Destination        10463 non-null object\n",
      "Route              10463 non-null object\n",
      "Dep_Time           10463 non-null object\n",
      "Arrival_Time       10463 non-null object\n",
      "Duration           10463 non-null object\n",
      "Total_Stops        10463 non-null object\n",
      "Additional_Info    10463 non-null object\n",
      "Price              10463 non-null int64\n",
      "dtypes: int64(1), object(10)\n",
      "memory usage: 980.9+ KB\n"
     ]
    }
   ],
   "source": [
    "#check duplicates\n",
    "ds_input =ds_input.drop_duplicates()\n",
    "ds_input.info()"
   ]
  },
  {
   "cell_type": "code",
   "execution_count": 585,
   "metadata": {},
   "outputs": [],
   "source": [
    "#combining the train and test \n",
    "y_train = ds_input['Price']\n",
    "train_nomissing = ds_input.drop('Price',axis=1)\n",
    "test_nomissing = dst_input\n",
    "combined_set = pd.concat([train_nomissing, test_nomissing], axis = 0) # Stacks them vertically"
   ]
  },
  {
   "cell_type": "code",
   "execution_count": 586,
   "metadata": {
    "scrolled": true
   },
   "outputs": [
    {
     "name": "stdout",
     "output_type": "stream",
     "text": [
      "<class 'pandas.core.frame.DataFrame'>\n",
      "Int64Index: 13134 entries, 0 to 2670\n",
      "Data columns (total 10 columns):\n",
      "Airline            13134 non-null object\n",
      "Date_of_Journey    13134 non-null object\n",
      "Source             13134 non-null object\n",
      "Destination        13134 non-null object\n",
      "Route              13134 non-null object\n",
      "Dep_Time           13134 non-null object\n",
      "Arrival_Time       13134 non-null object\n",
      "Duration           13134 non-null object\n",
      "Total_Stops        13134 non-null object\n",
      "Additional_Info    13134 non-null object\n",
      "dtypes: object(10)\n",
      "memory usage: 1.1+ MB\n"
     ]
    }
   ],
   "source": [
    " combined_set.info()"
   ]
  },
  {
   "cell_type": "markdown",
   "metadata": {},
   "source": [
    "combined_set['dup'] = 1"
   ]
  },
  {
   "cell_type": "markdown",
   "metadata": {},
   "source": [
    "ds_dup =combined_set[combined_set.duplicated(subset=['Airline','Date_of_Journey','Source','Destination','Route','Dep_Time',\n",
    "                                           'Arrival_Time','Duration','Total_Stops','Additional_Info'],keep='first')]"
   ]
  },
  {
   "cell_type": "markdown",
   "metadata": {},
   "source": [
    "ds_dup"
   ]
  },
  {
   "cell_type": "markdown",
   "metadata": {},
   "source": [
    "i=combined_set[combined_set.duplicated(subset=['Airline','Date_of_Journey','Source','Destination','Route','Dep_Time',\n",
    "                                           'Arrival_Time','Duration','Total_Stops','Additional_Info'],keep='first')].index.tolist()"
   ]
  },
  {
   "cell_type": "markdown",
   "metadata": {},
   "source": [
    "combined_set['dup'].iloc[i] = 2"
   ]
  },
  {
   "cell_type": "markdown",
   "metadata": {
    "scrolled": true
   },
   "source": [
    " combined_set.info()"
   ]
  },
  {
   "cell_type": "code",
   "execution_count": 587,
   "metadata": {},
   "outputs": [],
   "source": [
    "#spliting misc for fees\n",
    "ds_date = combined_set[\"Date_of_Journey\"].str.split(\"/\",n=1,expand=True)\n",
    "ds_date[0]=ds_date[0].str.replace(\"0\",'')\n",
    "ds_month= ds_date[1].str.split(\"/\",n=1,expand=True)\n",
    "ds_month[0]=ds_month[0].str.replace(\"0\",'')"
   ]
  },
  {
   "cell_type": "code",
   "execution_count": 588,
   "metadata": {
    "scrolled": true
   },
   "outputs": [],
   "source": [
    "combined_set['day']= ds_date[0].astype(str).astype(int)\n",
    "combined_set['month']= ds_month[0].astype(str).astype(int)"
   ]
  },
  {
   "cell_type": "code",
   "execution_count": 589,
   "metadata": {},
   "outputs": [],
   "source": [
    "ds_dep_time = combined_set[\"Dep_Time\"].str.split(\":\",n=1,expand=True)\n",
    "ds_arr_time = combined_set[\"Arrival_Time\"].str.split(\":\",n=1,expand=True)\n",
    "\n",
    "ds_arr_min=ds_arr_time[1].str.split(\" \",n=1,expand=True)\n",
    "ds_arr_min[1][ds_arr_min[1].notnull()]=1\n",
    "ds_arr_min[1][ds_arr_min[1].isnull()]=0"
   ]
  },
  {
   "cell_type": "code",
   "execution_count": 590,
   "metadata": {
    "scrolled": true
   },
   "outputs": [],
   "source": [
    "combined_set['dep_hour']= ds_dep_time[0].astype(str).astype(int)\n",
    "combined_set['dep_min']= ds_dep_time[1].astype(str).astype(int)"
   ]
  },
  {
   "cell_type": "code",
   "execution_count": 591,
   "metadata": {},
   "outputs": [],
   "source": [
    "combined_set['arr_hour']= ds_arr_time[0].astype(str).astype(int)\n",
    "combined_set['arr_min']= ds_arr_min[0].astype(str).astype(int)\n",
    "combined_set['over_night']= ds_arr_min[1].astype(str).astype(int)\n",
    "\n"
   ]
  },
  {
   "cell_type": "code",
   "execution_count": 592,
   "metadata": {
    "scrolled": true
   },
   "outputs": [],
   "source": [
    "ds_dur_min=combined_set['Duration'].str.split(\" \",n=1,expand=True)\n",
    "ds_dur_min[0]=ds_dur_min[0].str.replace(\"h\",'')\n",
    "ds_dur_min[0]=ds_dur_min[0].astype(str).astype(int)\n",
    "\n",
    "ds_dur_min[1]=ds_dur_min[1].str.replace(\"m\",'')\n",
    "ds_dur_min[1].fillna(0,inplace=True)\n",
    "ds_dur_min[1]=ds_dur_min[1].astype(str).astype(int)"
   ]
  },
  {
   "cell_type": "code",
   "execution_count": 593,
   "metadata": {},
   "outputs": [],
   "source": [
    "combined_set['Destination']=combined_set['Destination'].str.replace(\"New Delhi\",'Delhi')\n"
   ]
  },
  {
   "cell_type": "code",
   "execution_count": 594,
   "metadata": {},
   "outputs": [],
   "source": [
    "combined_set['new_duration_min'] = ds_dur_min[0]*60 + ds_dur_min[1]"
   ]
  },
  {
   "cell_type": "code",
   "execution_count": 595,
   "metadata": {},
   "outputs": [],
   "source": [
    "dummy1_combined_set=combined_set"
   ]
  },
  {
   "cell_type": "code",
   "execution_count": 596,
   "metadata": {},
   "outputs": [],
   "source": [
    "#combined_set = dummy1_combined_set"
   ]
  },
  {
   "cell_type": "markdown",
   "metadata": {},
   "source": [
    "### Data exploration"
   ]
  },
  {
   "cell_type": "code",
   "execution_count": 597,
   "metadata": {},
   "outputs": [],
   "source": [
    "df_train =  pd.concat([combined_set[:train_nomissing.shape[0]],y_train], axis=1) # Up to the last initial training set row\n",
    "dst_input = combined_set[train_nomissing.shape[0]:]"
   ]
  },
  {
   "cell_type": "code",
   "execution_count": 598,
   "metadata": {
    "scrolled": true
   },
   "outputs": [
    {
     "data": {
      "image/png": "[encoded data removed]",
      "text/plain": [
       "<Figure size 2304x288 with 4 Axes>"
      ]
     },
     "metadata": {},
     "output_type": "display_data"
    }
   ],
   "source": [
    "mx = sns.factorplot(y=\"Airline\",x=\"Price\",col='month', data=df_train, kind=\"box\", size=4,aspect=2)\n",
    "mx.set(ylabel='Price ')\n",
    "plt.title('Airlines Vs Price ');\n",
    "plt.show()"
   ]
  },
  {
   "cell_type": "code",
   "execution_count": 599,
   "metadata": {},
   "outputs": [],
   "source": [
    "df_train =df_train.drop(df_train.loc[(df_train['Airline']=='Jet Airways') & (df_train['Price']>40000)].index.tolist()).reset_index(drop=True)\n",
    "df_train =df_train.drop(df_train.loc[(df_train['Airline']=='SpiceJet') & (df_train['Price']>20000) ].index.tolist()).reset_index(drop=True)\n",
    "df_train =df_train.drop(df_train.loc[(df_train['Airline']=='Air India') & (df_train['Price']>30000) ].index.tolist()).reset_index(drop=True)\n",
    "df_train =df_train.drop(df_train.loc[(df_train['Airline']=='GoAir') & (df_train['Price']>20000) ].index.tolist()).reset_index(drop=True)\n",
    "df_train =df_train.drop(df_train.loc[(df_train['Airline']=='Jet Airways Business') & (df_train['Price']>70000) ].index.tolist()).reset_index(drop=True)\n",
    "#df_train =df_train.drop(df_train.loc[(df_train['Airline']=='Trujet')].index.tolist()).reset_index(drop=True)\n",
    "\n",
    "#df_train =df_train.drop(df_train.loc[(df_train['Airline']=='Air Asia') & (df_train['Price']>13000) ].index.tolist()).reset_index(drop=True)\n",
    "#df_train =df_train.drop(df_train.loc[(df_train['Airline']=='Multiple carriers') & (df_train['Price']>36000) ].index.tolist()).reset_index(drop=True)"
   ]
  },
  {
   "cell_type": "code",
   "execution_count": 600,
   "metadata": {},
   "outputs": [
    {
     "data": {
      "image/png": "[encoded data removed]",
      "text/plain": [
       "<Figure size 2880x360 with 4 Axes>"
      ]
     },
     "metadata": {},
     "output_type": "display_data"
    }
   ],
   "source": [
    "mx = sns.factorplot(x=\"day\", y=\"Price\", data=df_train, kind=\"box\",col='month', size=5 ,aspect=2)\n",
    "mx.set(xlabel='day')\n",
    "mx.set(ylabel= 'Price')\n",
    "plt.title('day Vs Price');\n",
    "plt.show()"
   ]
  },
  {
   "cell_type": "code",
   "execution_count": 601,
   "metadata": {
    "scrolled": false
   },
   "outputs": [
    {
     "data": {
      "text/plain": [
       "<Figure size 1080x720 with 0 Axes>"
      ]
     },
     "metadata": {},
     "output_type": "display_data"
    },
    {
     "data": {
      "image/png": "[encoded data removed]",
      "text/plain": [
       "<Figure size 360x360 with 1 Axes>"
      ]
     },
     "metadata": {},
     "output_type": "display_data"
    }
   ],
   "source": [
    "plt.figure(figsize=(15,10))\n",
    "sns.lmplot(x='new_duration_min',y='Price',data=df_train,fit_reg=True);"
   ]
  },
  {
   "cell_type": "code",
   "execution_count": 602,
   "metadata": {
    "scrolled": true
   },
   "outputs": [
    {
     "data": {
      "image/png": "[encoded data removed]",
      "text/plain": [
       "<Figure size 2880x360 with 4 Axes>"
      ]
     },
     "metadata": {},
     "output_type": "display_data"
    }
   ],
   "source": [
    "mx = sns.factorplot(y=\"Source\", x=\"Price\", data=df_train, col='month',kind=\"box\", size=5 ,aspect=2)\n",
    "mx.set(xlabel='day')\n",
    "mx.set(ylabel= 'Price')\n",
    "plt.title('day Vs Price');\n",
    "plt.show()"
   ]
  },
  {
   "cell_type": "code",
   "execution_count": 603,
   "metadata": {
    "scrolled": true
   },
   "outputs": [
    {
     "data": {
      "text/html": [
       "<div>\n",
       "<style scoped>\n",
       "    .dataframe tbody tr th:only-of-type {\n",
       "        vertical-align: middle;\n",
       "    }\n",
       "\n",
       "    .dataframe tbody tr th {\n",
       "        vertical-align: top;\n",
       "    }\n",
       "\n",
       "    .dataframe thead th {\n",
       "        text-align: right;\n",
       "    }\n",
       "</style>\n",
       "<table border=\"1\" class=\"dataframe\">\n",
       "  <thead>\n",
       "    <tr style=\"text-align: right;\">\n",
       "      <th></th>\n",
       "      <th>Airline</th>\n",
       "      <th>Date_of_Journey</th>\n",
       "      <th>Source</th>\n",
       "      <th>Destination</th>\n",
       "      <th>Route</th>\n",
       "      <th>Dep_Time</th>\n",
       "      <th>Arrival_Time</th>\n",
       "      <th>Duration</th>\n",
       "      <th>Total_Stops</th>\n",
       "      <th>Additional_Info</th>\n",
       "      <th>day</th>\n",
       "      <th>month</th>\n",
       "      <th>dep_hour</th>\n",
       "      <th>dep_min</th>\n",
       "      <th>arr_hour</th>\n",
       "      <th>arr_min</th>\n",
       "      <th>over_night</th>\n",
       "      <th>new_duration_min</th>\n",
       "      <th>Price</th>\n",
       "    </tr>\n",
       "  </thead>\n",
       "  <tbody>\n",
       "    <tr>\n",
       "      <th>657</th>\n",
       "      <td>Jet Airways Business</td>\n",
       "      <td>01/03/2019</td>\n",
       "      <td>Banglore</td>\n",
       "      <td>Delhi</td>\n",
       "      <td>BLR → BOM → DEL</td>\n",
       "      <td>05:45</td>\n",
       "      <td>10:45</td>\n",
       "      <td>5h</td>\n",
       "      <td>1 stop</td>\n",
       "      <td>No info</td>\n",
       "      <td>1</td>\n",
       "      <td>3</td>\n",
       "      <td>5</td>\n",
       "      <td>45</td>\n",
       "      <td>10</td>\n",
       "      <td>45</td>\n",
       "      <td>0</td>\n",
       "      <td>300</td>\n",
       "      <td>52229</td>\n",
       "    </tr>\n",
       "  </tbody>\n",
       "</table>\n",
       "</div>"
      ],
      "text/plain": [
       "                  Airline Date_of_Journey    Source Destination  \\\n",
       "657  Jet Airways Business      01/03/2019  Banglore       Delhi   \n",
       "\n",
       "               Route Dep_Time Arrival_Time Duration Total_Stops  \\\n",
       "657  BLR → BOM → DEL    05:45        10:45       5h      1 stop   \n",
       "\n",
       "    Additional_Info  day  month  dep_hour  dep_min  arr_hour  arr_min  \\\n",
       "657         No info    1      3         5       45        10       45   \n",
       "\n",
       "     over_night  new_duration_min  Price  \n",
       "657           0               300  52229  "
      ]
     },
     "execution_count": 603,
     "metadata": {},
     "output_type": "execute_result"
    }
   ],
   "source": [
    "df_train.loc[ (df_train['Source']=='Banglore')& (df_train['Price']>50000) & (df_train['Additional_Info']=='No info') ]"
   ]
  },
  {
   "cell_type": "code",
   "execution_count": 604,
   "metadata": {
    "scrolled": false
   },
   "outputs": [],
   "source": [
    "#df_train =df_train.drop(df_train.loc[(df_train['Source']=='Banglore')& (df_train['Price']>50000) & (df_train['Additional_Info']=='No info')].index.tolist()).reset_index(drop=True)\n"
   ]
  },
  {
   "cell_type": "code",
   "execution_count": 605,
   "metadata": {},
   "outputs": [
    {
     "data": {
      "text/html": [
       "<div>\n",
       "<style scoped>\n",
       "    .dataframe tbody tr th:only-of-type {\n",
       "        vertical-align: middle;\n",
       "    }\n",
       "\n",
       "    .dataframe tbody tr th {\n",
       "        vertical-align: top;\n",
       "    }\n",
       "\n",
       "    .dataframe thead th {\n",
       "        text-align: right;\n",
       "    }\n",
       "</style>\n",
       "<table border=\"1\" class=\"dataframe\">\n",
       "  <thead>\n",
       "    <tr style=\"text-align: right;\">\n",
       "      <th></th>\n",
       "      <th>Airline</th>\n",
       "      <th>Date_of_Journey</th>\n",
       "      <th>Source</th>\n",
       "      <th>Destination</th>\n",
       "      <th>Route</th>\n",
       "      <th>Dep_Time</th>\n",
       "      <th>Arrival_Time</th>\n",
       "      <th>Duration</th>\n",
       "      <th>Total_Stops</th>\n",
       "      <th>Additional_Info</th>\n",
       "      <th>day</th>\n",
       "      <th>month</th>\n",
       "      <th>dep_hour</th>\n",
       "      <th>dep_min</th>\n",
       "      <th>arr_hour</th>\n",
       "      <th>arr_min</th>\n",
       "      <th>over_night</th>\n",
       "      <th>new_duration_min</th>\n",
       "      <th>Price</th>\n",
       "    </tr>\n",
       "  </thead>\n",
       "  <tbody>\n",
       "    <tr>\n",
       "      <th>6896</th>\n",
       "      <td>Multiple carriers</td>\n",
       "      <td>9/05/2019</td>\n",
       "      <td>Delhi</td>\n",
       "      <td>Cochin</td>\n",
       "      <td>DEL → BOM → COK</td>\n",
       "      <td>12:50</td>\n",
       "      <td>01:30 10 May</td>\n",
       "      <td>12h 40m</td>\n",
       "      <td>1 stop</td>\n",
       "      <td>No info</td>\n",
       "      <td>9</td>\n",
       "      <td>5</td>\n",
       "      <td>12</td>\n",
       "      <td>50</td>\n",
       "      <td>1</td>\n",
       "      <td>30</td>\n",
       "      <td>1</td>\n",
       "      <td>760</td>\n",
       "      <td>34273</td>\n",
       "    </tr>\n",
       "  </tbody>\n",
       "</table>\n",
       "</div>"
      ],
      "text/plain": [
       "                Airline Date_of_Journey Source Destination            Route  \\\n",
       "6896  Multiple carriers       9/05/2019  Delhi      Cochin  DEL → BOM → COK   \n",
       "\n",
       "     Dep_Time  Arrival_Time Duration Total_Stops Additional_Info  day  month  \\\n",
       "6896    12:50  01:30 10 May  12h 40m      1 stop         No info    9      5   \n",
       "\n",
       "      dep_hour  dep_min  arr_hour  arr_min  over_night  new_duration_min  \\\n",
       "6896        12       50         1       30           1               760   \n",
       "\n",
       "      Price  \n",
       "6896  34273  "
      ]
     },
     "execution_count": 605,
     "metadata": {},
     "output_type": "execute_result"
    }
   ],
   "source": [
    "df_train.loc[(df_train['month']==5) & (df_train['Source']=='Delhi')& (df_train['Price']>30000)& (df_train['Airline']=='Multiple carriers') ]"
   ]
  },
  {
   "cell_type": "code",
   "execution_count": 606,
   "metadata": {
    "scrolled": true
   },
   "outputs": [
    {
     "data": {
      "image/png": "[encoded data removed]",
      "text/plain": [
       "<Figure size 2880x360 with 4 Axes>"
      ]
     },
     "metadata": {},
     "output_type": "display_data"
    }
   ],
   "source": [
    "mx = sns.factorplot(y=\"Additional_Info\", x=\"Price\", data=df_train, kind=\"box\",col='month', size=5 ,aspect=2)\n",
    "mx.set(xlabel='day')\n",
    "mx.set(ylabel= 'Price')\n",
    "plt.title('day Vs Price');\n",
    "plt.show()"
   ]
  },
  {
   "cell_type": "code",
   "execution_count": 607,
   "metadata": {},
   "outputs": [],
   "source": [
    "#df_train =df_train.drop(df_train.loc[(df_train['month']==5) & (df_train['Source']=='Delhi')& (df_train['Price']>30000) ].index.tolist()).reset_index(drop=True)\n",
    "#df_train = df_train.drop(df_train.loc[(df_train['Airline']=='Multiple carriers') & (df_train['month']==5) & (df_train['Price']>30000)].index.tolist()).reset_index(drop=True)\n",
    "#df_train = df_train.drop(df_train.loc[ (df_train['month']==3) & (df_train['Price']>30000)& (df_train['arr_hour']==4)].index.tolist()).reset_index(drop=True)"
   ]
  },
  {
   "cell_type": "code",
   "execution_count": 608,
   "metadata": {
    "scrolled": false
   },
   "outputs": [],
   "source": [
    "#df_train =df_train.drop(df_train.loc[(df_train['month']==3)& (df_train['Price']>50000)].index.tolist()).reset_index(drop=True)\n"
   ]
  },
  {
   "cell_type": "code",
   "execution_count": 1,
   "metadata": {
    "scrolled": true
   },
   "outputs": [
    {
     "ename": "NameError",
     "evalue": "name 'sns' is not defined",
     "output_type": "error",
     "traceback": [
      "\u001b[1;31m---------------------------------------------------------------------------\u001b[0m",
      "\u001b[1;31mNameError\u001b[0m                                 Traceback (most recent call last)",
      "\u001b[1;32m<ipython-input-1-0526a9ebe465>\u001b[0m in \u001b[0;36m<module>\u001b[1;34m()\u001b[0m\n\u001b[1;32m----> 1\u001b[1;33m \u001b[0mmx\u001b[0m \u001b[1;33m=\u001b[0m \u001b[0msns\u001b[0m\u001b[1;33m.\u001b[0m\u001b[0mfactorplot\u001b[0m\u001b[1;33m(\u001b[0m\u001b[0mx\u001b[0m\u001b[1;33m=\u001b[0m\u001b[1;34m\"Response\"\u001b[0m\u001b[1;33m,\u001b[0m \u001b[0my\u001b[0m\u001b[1;33m=\u001b[0m\u001b[1;34m\"Product_Info_4\"\u001b[0m\u001b[1;33m,\u001b[0m \u001b[0mdata\u001b[0m\u001b[1;33m=\u001b[0m\u001b[0mdf_train\u001b[0m\u001b[1;33m,\u001b[0m \u001b[0mkind\u001b[0m\u001b[1;33m=\u001b[0m\u001b[1;34m\"box\"\u001b[0m\u001b[1;33m,\u001b[0m \u001b[0msize\u001b[0m\u001b[1;33m=\u001b[0m\u001b[1;36m5\u001b[0m \u001b[1;33m,\u001b[0m\u001b[0maspect\u001b[0m\u001b[1;33m=\u001b[0m\u001b[1;36m2\u001b[0m\u001b[1;33m)\u001b[0m\u001b[1;33m\u001b[0m\u001b[0m\n\u001b[0m\u001b[0;32m      2\u001b[0m \u001b[0mmx\u001b[0m\u001b[1;33m.\u001b[0m\u001b[0mset\u001b[0m\u001b[1;33m(\u001b[0m\u001b[0mxlabel\u001b[0m\u001b[1;33m=\u001b[0m\u001b[1;34m'day'\u001b[0m\u001b[1;33m)\u001b[0m\u001b[1;33m\u001b[0m\u001b[0m\n\u001b[0;32m      3\u001b[0m \u001b[0mmx\u001b[0m\u001b[1;33m.\u001b[0m\u001b[0mset\u001b[0m\u001b[1;33m(\u001b[0m\u001b[0mylabel\u001b[0m\u001b[1;33m=\u001b[0m \u001b[1;34m'Price'\u001b[0m\u001b[1;33m)\u001b[0m\u001b[1;33m\u001b[0m\u001b[0m\n\u001b[0;32m      4\u001b[0m \u001b[0mplt\u001b[0m\u001b[1;33m.\u001b[0m\u001b[0mtitle\u001b[0m\u001b[1;33m(\u001b[0m\u001b[1;34m'day Vs Price'\u001b[0m\u001b[1;33m)\u001b[0m\u001b[1;33m;\u001b[0m\u001b[1;33m\u001b[0m\u001b[0m\n\u001b[0;32m      5\u001b[0m \u001b[0mplt\u001b[0m\u001b[1;33m.\u001b[0m\u001b[0mshow\u001b[0m\u001b[1;33m(\u001b[0m\u001b[1;33m)\u001b[0m\u001b[1;33m\u001b[0m\u001b[0m\n",
      "\u001b[1;31mNameError\u001b[0m: name 'sns' is not defined"
     ]
    }
   ],
   "source": [
    "mx = sns.factorplot(x=\"Response\", y=\"Product_Info_4\", data=df_train, kind=\"box\", size=5 ,aspect=2)\n",
    "mx.set(xlabel='day')\n",
    "mx.set(ylabel= 'Price')\n",
    "plt.title('day Vs Price');\n",
    "plt.show()"
   ]
  },
  {
   "cell_type": "code",
   "execution_count": 610,
   "metadata": {
    "scrolled": true
   },
   "outputs": [],
   "source": [
    "#df_train =df_train.drop(df_train.loc[(df_train['month']==5)& (df_train['Price']>30000)].index.tolist()).reset_index(drop=True)\n",
    "#df_train.loc[(df_train['month']==5)& (df_train['Price']>30000)]"
   ]
  },
  {
   "cell_type": "code",
   "execution_count": 611,
   "metadata": {},
   "outputs": [],
   "source": [
    "price_df_train = pd.DataFrame(df_train)"
   ]
  },
  {
   "cell_type": "code",
   "execution_count": 612,
   "metadata": {
    "colab": {},
    "colab_type": "code",
    "id": "WCs9o0xt3Zfi"
   },
   "outputs": [],
   "source": [
    "price_df_train.to_excel('price_df_train.xlsx')"
   ]
  },
  {
   "cell_type": "code",
   "execution_count": 613,
   "metadata": {},
   "outputs": [],
   "source": [
    "#combining the train and test \n",
    "y_train = df_train['Price']\n",
    "train_nomissing = df_train.drop('Price',axis=1)\n",
    "test_nomissing = dst_input\n",
    "combined_set = pd.concat([train_nomissing, test_nomissing], axis = 0) # Stacks them vertically"
   ]
  },
  {
   "cell_type": "markdown",
   "metadata": {
    "colab_type": "text",
    "id": "S44QmB3I2mg5"
   },
   "source": [
    "### 4. Feature Engineering  <a id='feature'>"
   ]
  },
  {
   "cell_type": "code",
   "execution_count": 614,
   "metadata": {},
   "outputs": [],
   "source": [
    "# agegroup below 30 and above 59 as a categorical feature\n",
    "def fri_output(Ex):\n",
    "    mn,dy=Ex\n",
    "    fr=0\n",
    "    if (mn == 3 & dy in [8,15,22,29]):\n",
    "        fr=1\n",
    "    elif (mn == 4 & dy in [5,12,19,26]):\n",
    "        fr=1\n",
    "    elif (mn == 5 & dy in [3,10,17,24,31]):\n",
    "        fr=1\n",
    "    elif (mn == 6 & dy in [7,14,21,28]):\n",
    "        fr=1\n",
    "    return fr\n",
    "      \n",
    "combined_set['is_friday'] = combined_set[['month','day']].apply(fri_output, axis=1)\n"
   ]
  },
  {
   "cell_type": "markdown",
   "metadata": {},
   "source": [
    "# agegroup below 30 and above 59 as a categorical feature\n",
    "def dep_output(Ex):\n",
    "    \n",
    "    \n",
    "    if (Ex >= 6 & Ex <=12 ):\n",
    "        fr='morning'\n",
    "    elif (Ex > 12 & Ex <=21 ):\n",
    "        fr='noon'\n",
    "    elif (Ex > 21 & Ex <6 ):\n",
    "        fr='night'\n",
    "    return fr\n",
    "      \n",
    "combined_set['is_mnn'] = combined_set['dep_hour'].apply(dep_output)"
   ]
  },
  {
   "cell_type": "markdown",
   "metadata": {},
   "source": [
    "# agegroup below 30 and above 59 as a categorical feature\n",
    "def mon_output(Ex):\n",
    "    mn,dy=Ex\n",
    "    fr=0\n",
    "    if (mn == 3 & dy in [4,11,18,25]):\n",
    "        fr=1\n",
    "    elif (mn == 4 & dy in [1,8,15,22,29]):\n",
    "        fr=1\n",
    "    elif (mn == 5 & dy in [6,13,20,27]):\n",
    "        fr=1\n",
    "    elif (mn == 6 & dy in [3,10,17,24]):\n",
    "        fr=1\n",
    "    return fr\n",
    "      \n",
    "combined_set['is_monday'] = combined_set[['month','day']].apply(mon_output, axis=1)"
   ]
  },
  {
   "cell_type": "markdown",
   "metadata": {},
   "source": [
    "# agegroup below 30 and above 59 as a categorical feature\n",
    "def jet_output(Ex):\n",
    "    mn,dy=Ex\n",
    "    if (mn in [\"Jet Airways\"] and  dy in [\"Business class\"]):\n",
    "        dy='No info'\n",
    "    return dy\n",
    "      \n",
    "combined_set['Additional_Info'] = combined_set[['Airline','Additional_Info']].apply(jet_output, axis=1)"
   ]
  },
  {
   "cell_type": "markdown",
   "metadata": {},
   "source": [
    "# agegroup below 30 and above 59 as a categorical feature\n",
    "def summer_output(Ex):\n",
    "    fr=0\n",
    "    if (Ex == 3):\n",
    "        fr=1\n",
    "    return fr\n",
    "      \n",
    "combined_set['is_summer'] = combined_set['month'].apply(summer_output)"
   ]
  },
  {
   "cell_type": "markdown",
   "metadata": {},
   "source": [
    "# Data time format\n",
    "\n",
    "combined_set['Date_of_Journey'] = pd.to_datetime(combined_set['Date_of_Journey'],dayfirst = True)"
   ]
  },
  {
   "cell_type": "markdown",
   "metadata": {},
   "source": [
    "def days_output(Ex):\n",
    "    fr=0\n",
    "    fr = (Ex-pd.to_datetime('01/03/2019',dayfirst = True)).days\n",
    "    \n",
    "    return fr\n",
    "      \n",
    "combined_set['number_days'] = combined_set['Date_of_Journey'].apply(days_output)"
   ]
  },
  {
   "cell_type": "markdown",
   "metadata": {},
   "source": [
    "def stp_output(Ex):\n",
    "    \n",
    "    if (Ex =='non-stop'):\n",
    "        Ex=0\n",
    "    elif (Ex =='1 stop'):\n",
    "        Ex=1\n",
    "    elif (Ex =='2 stops'):\n",
    "        Ex=2 \n",
    "    elif (Ex =='3 stops'):\n",
    "        Ex=3\n",
    "    elif (Ex =='4 stops'):\n",
    "        Ex=4\n",
    "    return Ex\n",
    "      \n",
    "combined_set['Total_Stops'] = combined_set['Total_Stops'].apply(stp_output)\n",
    "combined_set['Total_Stops'] = combined_set['Total_Stops'].astype(int)"
   ]
  },
  {
   "cell_type": "markdown",
   "metadata": {},
   "source": [
    "# agegroup below 30 and above 59 as a categorical feature\n",
    "def src_output(Ex):\n",
    "\n",
    "    if (Ex == 'Banglore'):\n",
    "        Ex='blr'\n",
    "    elif (Ex =='Kolkata'):\n",
    "        Ex='ccu'\n",
    "    elif (Ex =='Delhi'):\n",
    "        Ex='del'  \n",
    "    elif (Ex =='Chennai'):\n",
    "        Ex='del'\n",
    "    elif (Ex =='Mumbai'):\n",
    "        Ex='bom'\n",
    "    elif (Ex =='Cochin'):\n",
    "        Ex='cok'\n",
    "    elif (Ex =='Hyderabad'):\n",
    "        Ex='hyd'\n",
    "    return Ex\n",
    "      \n",
    "combined_set['Source'] = combined_set['Source'].apply(src_output)\n",
    "combined_set['Destination'] = combined_set['Destination'].apply(src_output)"
   ]
  },
  {
   "cell_type": "code",
   "execution_count": 615,
   "metadata": {
    "scrolled": true
   },
   "outputs": [
    {
     "data": {
      "text/html": [
       "<div>\n",
       "<style scoped>\n",
       "    .dataframe tbody tr th:only-of-type {\n",
       "        vertical-align: middle;\n",
       "    }\n",
       "\n",
       "    .dataframe tbody tr th {\n",
       "        vertical-align: top;\n",
       "    }\n",
       "\n",
       "    .dataframe thead th {\n",
       "        text-align: right;\n",
       "    }\n",
       "</style>\n",
       "<table border=\"1\" class=\"dataframe\">\n",
       "  <thead>\n",
       "    <tr style=\"text-align: right;\">\n",
       "      <th></th>\n",
       "      <th>Airline</th>\n",
       "      <th>Date_of_Journey</th>\n",
       "      <th>Source</th>\n",
       "      <th>Destination</th>\n",
       "      <th>Route</th>\n",
       "      <th>Dep_Time</th>\n",
       "      <th>Arrival_Time</th>\n",
       "      <th>Duration</th>\n",
       "      <th>Total_Stops</th>\n",
       "      <th>Additional_Info</th>\n",
       "      <th>day</th>\n",
       "      <th>month</th>\n",
       "      <th>dep_hour</th>\n",
       "      <th>dep_min</th>\n",
       "      <th>arr_hour</th>\n",
       "      <th>arr_min</th>\n",
       "      <th>over_night</th>\n",
       "      <th>new_duration_min</th>\n",
       "      <th>is_friday</th>\n",
       "    </tr>\n",
       "  </thead>\n",
       "  <tbody>\n",
       "    <tr>\n",
       "      <th>0</th>\n",
       "      <td>IndiGo</td>\n",
       "      <td>24/03/2019</td>\n",
       "      <td>Banglore</td>\n",
       "      <td>Delhi</td>\n",
       "      <td>BLR → DEL</td>\n",
       "      <td>22:20</td>\n",
       "      <td>01:10 22 Mar</td>\n",
       "      <td>2h 50m</td>\n",
       "      <td>non-stop</td>\n",
       "      <td>No info</td>\n",
       "      <td>24</td>\n",
       "      <td>3</td>\n",
       "      <td>22</td>\n",
       "      <td>20</td>\n",
       "      <td>1</td>\n",
       "      <td>10</td>\n",
       "      <td>1</td>\n",
       "      <td>170</td>\n",
       "      <td>0</td>\n",
       "    </tr>\n",
       "    <tr>\n",
       "      <th>1</th>\n",
       "      <td>Air India</td>\n",
       "      <td>1/05/2019</td>\n",
       "      <td>Kolkata</td>\n",
       "      <td>Banglore</td>\n",
       "      <td>CCU → IXR → BBI → BLR</td>\n",
       "      <td>05:50</td>\n",
       "      <td>13:15</td>\n",
       "      <td>7h 25m</td>\n",
       "      <td>2 stops</td>\n",
       "      <td>No info</td>\n",
       "      <td>1</td>\n",
       "      <td>5</td>\n",
       "      <td>5</td>\n",
       "      <td>50</td>\n",
       "      <td>13</td>\n",
       "      <td>15</td>\n",
       "      <td>0</td>\n",
       "      <td>445</td>\n",
       "      <td>0</td>\n",
       "    </tr>\n",
       "    <tr>\n",
       "      <th>2</th>\n",
       "      <td>Jet Airways</td>\n",
       "      <td>9/06/2019</td>\n",
       "      <td>Delhi</td>\n",
       "      <td>Cochin</td>\n",
       "      <td>DEL → LKO → BOM → COK</td>\n",
       "      <td>09:25</td>\n",
       "      <td>04:25 10 Jun</td>\n",
       "      <td>19h</td>\n",
       "      <td>2 stops</td>\n",
       "      <td>No info</td>\n",
       "      <td>9</td>\n",
       "      <td>6</td>\n",
       "      <td>9</td>\n",
       "      <td>25</td>\n",
       "      <td>4</td>\n",
       "      <td>25</td>\n",
       "      <td>1</td>\n",
       "      <td>1140</td>\n",
       "      <td>0</td>\n",
       "    </tr>\n",
       "    <tr>\n",
       "      <th>3</th>\n",
       "      <td>IndiGo</td>\n",
       "      <td>12/05/2019</td>\n",
       "      <td>Kolkata</td>\n",
       "      <td>Banglore</td>\n",
       "      <td>CCU → NAG → BLR</td>\n",
       "      <td>18:05</td>\n",
       "      <td>23:30</td>\n",
       "      <td>5h 25m</td>\n",
       "      <td>1 stop</td>\n",
       "      <td>No info</td>\n",
       "      <td>12</td>\n",
       "      <td>5</td>\n",
       "      <td>18</td>\n",
       "      <td>5</td>\n",
       "      <td>23</td>\n",
       "      <td>30</td>\n",
       "      <td>0</td>\n",
       "      <td>325</td>\n",
       "      <td>0</td>\n",
       "    </tr>\n",
       "    <tr>\n",
       "      <th>4</th>\n",
       "      <td>IndiGo</td>\n",
       "      <td>01/03/2019</td>\n",
       "      <td>Banglore</td>\n",
       "      <td>Delhi</td>\n",
       "      <td>BLR → NAG → DEL</td>\n",
       "      <td>16:50</td>\n",
       "      <td>21:35</td>\n",
       "      <td>4h 45m</td>\n",
       "      <td>1 stop</td>\n",
       "      <td>No info</td>\n",
       "      <td>1</td>\n",
       "      <td>3</td>\n",
       "      <td>16</td>\n",
       "      <td>50</td>\n",
       "      <td>21</td>\n",
       "      <td>35</td>\n",
       "      <td>0</td>\n",
       "      <td>285</td>\n",
       "      <td>0</td>\n",
       "    </tr>\n",
       "  </tbody>\n",
       "</table>\n",
       "</div>"
      ],
      "text/plain": [
       "       Airline Date_of_Journey    Source Destination                  Route  \\\n",
       "0       IndiGo      24/03/2019  Banglore       Delhi              BLR → DEL   \n",
       "1    Air India       1/05/2019   Kolkata    Banglore  CCU → IXR → BBI → BLR   \n",
       "2  Jet Airways       9/06/2019     Delhi      Cochin  DEL → LKO → BOM → COK   \n",
       "3       IndiGo      12/05/2019   Kolkata    Banglore        CCU → NAG → BLR   \n",
       "4       IndiGo      01/03/2019  Banglore       Delhi        BLR → NAG → DEL   \n",
       "\n",
       "  Dep_Time  Arrival_Time Duration Total_Stops Additional_Info  day  month  \\\n",
       "0    22:20  01:10 22 Mar   2h 50m    non-stop         No info   24      3   \n",
       "1    05:50         13:15   7h 25m     2 stops         No info    1      5   \n",
       "2    09:25  04:25 10 Jun      19h     2 stops         No info    9      6   \n",
       "3    18:05         23:30   5h 25m      1 stop         No info   12      5   \n",
       "4    16:50         21:35   4h 45m      1 stop         No info    1      3   \n",
       "\n",
       "   dep_hour  dep_min  arr_hour  arr_min  over_night  new_duration_min  \\\n",
       "0        22       20         1       10           1               170   \n",
       "1         5       50        13       15           0               445   \n",
       "2         9       25         4       25           1              1140   \n",
       "3        18        5        23       30           0               325   \n",
       "4        16       50        21       35           0               285   \n",
       "\n",
       "   is_friday  \n",
       "0          0  \n",
       "1          0  \n",
       "2          0  \n",
       "3          0  \n",
       "4          0  "
      ]
     },
     "execution_count": 615,
     "metadata": {},
     "output_type": "execute_result"
    }
   ],
   "source": [
    "combined_set.head()"
   ]
  },
  {
   "cell_type": "markdown",
   "metadata": {},
   "source": [
    "# agegroup below 30 and above 59 as a categorical feature\n",
    "def cheap_output(Ex):\n",
    "    if (Ex in ['IndiGo','SpiceJet','GoAir',\n",
    "               'Air Asia','Trujet']):\n",
    "        fr='LC'\n",
    "    elif (Ex in ['Vistara Premium economy','Jet Airways Business','Multiple carriers Premium economy']):\n",
    "         fr='premium'\n",
    "    elif (Ex in ['Air India','Jet Airways','Multiple carriers','Vistara']):\n",
    "         fr='full'\n",
    "    return fr\n",
    "      \n",
    "combined_set['is_cheap'] = combined_set['Airline'].apply(cheap_output)"
   ]
  },
  {
   "cell_type": "markdown",
   "metadata": {
    "colab_type": "text",
    "id": "DPsbC3zV3Zf4"
   },
   "source": [
    "### Removing Punctuation  <a id='erf'>"
   ]
  },
  {
   "cell_type": "code",
   "execution_count": 616,
   "metadata": {},
   "outputs": [
    {
     "data": {
      "text/plain": [
       "0              BLR  DEL\n",
       "1    CCU  IXR  BBI  BLR\n",
       "2    DEL  LKO  BOM  COK\n",
       "3         CCU  NAG  BLR\n",
       "4         BLR  NAG  DEL\n",
       "Name: Route, dtype: object"
      ]
     },
     "execution_count": 616,
     "metadata": {},
     "output_type": "execute_result"
    }
   ],
   "source": [
    "combined_set['Route'] = combined_set['Route'].str.replace('[^\\w\\s]','')\n",
    "combined_set['Route'].head()"
   ]
  },
  {
   "cell_type": "markdown",
   "metadata": {
    "colab_type": "text",
    "id": "DPsbC3zV3Zf4"
   },
   "source": [
    "### Removal of Stop Words <a id='erf'>"
   ]
  },
  {
   "cell_type": "code",
   "execution_count": 617,
   "metadata": {
    "scrolled": true
   },
   "outputs": [
    {
     "name": "stdout",
     "output_type": "stream",
     "text": [
      "[nltk_data] Downloading package stopwords to\n",
      "[nltk_data]     C:\\Users\\sandeep.rathod\\AppData\\Roaming\\nltk_data...\n",
      "[nltk_data]   Package stopwords is already up-to-date!\n"
     ]
    },
    {
     "data": {
      "text/plain": [
       "0            BLR DEL\n",
       "1    CCU IXR BBI BLR\n",
       "2    DEL LKO BOM COK\n",
       "3        CCU NAG BLR\n",
       "4        BLR NAG DEL\n",
       "Name: Route, dtype: object"
      ]
     },
     "execution_count": 617,
     "metadata": {},
     "output_type": "execute_result"
    }
   ],
   "source": [
    "import nltk.corpus\n",
    "from nltk.corpus import stopwords\n",
    "nltk.download('stopwords')\n",
    "stop = stopwords.words('english')\n",
    "combined_set['Route'] = combined_set['Route'].apply(lambda x: \" \".join(x for x in x.split() if x not in stop))\n",
    "combined_set['Route'].head()"
   ]
  },
  {
   "cell_type": "code",
   "execution_count": 618,
   "metadata": {
    "scrolled": false
   },
   "outputs": [
    {
     "data": {
      "text/plain": [
       "0            BLR DEL\n",
       "1    CCU IXR BBI BLR\n",
       "2    DEL LKO BOM COK\n",
       "3        CCU NAG BLR\n",
       "4        BLR NAG DEL\n",
       "Name: Route, dtype: object"
      ]
     },
     "execution_count": 618,
     "metadata": {},
     "output_type": "execute_result"
    }
   ],
   "source": [
    "from textblob import TextBlob\n",
    "combined_set['Route'][:5].apply(lambda x: str(TextBlob(x).correct()))"
   ]
  },
  {
   "cell_type": "markdown",
   "metadata": {
    "colab_type": "text",
    "id": "DPsbC3zV3Zf4"
   },
   "source": [
    "### All these pre-processing steps are essential and help us in reducing our vocabulary clutter so that the features produced in the end are more effective. <a id='erf'>"
   ]
  },
  {
   "cell_type": "markdown",
   "metadata": {
    "colab_type": "text",
    "id": "DPsbC3zV3Zf4"
   },
   "source": [
    "### TF-IDFTF-IDF<a id='erf'>"
   ]
  },
  {
   "cell_type": "code",
   "execution_count": 619,
   "metadata": {},
   "outputs": [],
   "source": [
    "combined_set_dummy3 = combined_set"
   ]
  },
  {
   "cell_type": "code",
   "execution_count": 620,
   "metadata": {},
   "outputs": [],
   "source": [
    "combined_set = combined_set_dummy3"
   ]
  },
  {
   "cell_type": "code",
   "execution_count": 621,
   "metadata": {},
   "outputs": [],
   "source": [
    "from sklearn.feature_extraction.text import TfidfVectorizer\n",
    "tfidf = TfidfVectorizer(max_features=None, lowercase=True, analyzer='word',\n",
    "stop_words= 'english',ngram_range=(1,4))\n",
    "train_vect = tfidf.fit_transform(combined_set['Route'])"
   ]
  },
  {
   "cell_type": "markdown",
   "metadata": {},
   "source": [
    "tfidf_misc = TfidfVectorizer(max_features=None, lowercase=True, analyzer='word',\n",
    " stop_words= 'english',ngram_range=(1,1))\n",
    "train_vect_misc = tfidf_misc.fit_transform(combined_set['Source'])"
   ]
  },
  {
   "cell_type": "code",
   "execution_count": 622,
   "metadata": {},
   "outputs": [],
   "source": [
    "tfidf_vect = pd.DataFrame(\n",
    "    (count, word) for word, count in zip(\n",
    "    train_vect.toarray().tolist()[0],   \n",
    "    tfidf.get_feature_names()))\n",
    "tfidf_vect.columns = ['Word', 'Count']\n",
    "tfidf_vect.sort_values('Count', ascending=False, inplace=True)\n"
   ]
  },
  {
   "cell_type": "code",
   "execution_count": 623,
   "metadata": {
    "scrolled": true
   },
   "outputs": [
    {
     "data": {
      "text/html": [
       "<div>\n",
       "<style scoped>\n",
       "    .dataframe tbody tr th:only-of-type {\n",
       "        vertical-align: middle;\n",
       "    }\n",
       "\n",
       "    .dataframe tbody tr th {\n",
       "        vertical-align: top;\n",
       "    }\n",
       "\n",
       "    .dataframe thead th {\n",
       "        text-align: right;\n",
       "    }\n",
       "</style>\n",
       "<table border=\"1\" class=\"dataframe\">\n",
       "  <thead>\n",
       "    <tr style=\"text-align: right;\">\n",
       "      <th></th>\n",
       "      <th>Word</th>\n",
       "      <th>Count</th>\n",
       "    </tr>\n",
       "  </thead>\n",
       "  <tbody>\n",
       "    <tr>\n",
       "      <th>68</th>\n",
       "      <td>blr del</td>\n",
       "      <td>0.803076</td>\n",
       "    </tr>\n",
       "    <tr>\n",
       "      <th>35</th>\n",
       "      <td>blr</td>\n",
       "      <td>0.464591</td>\n",
       "    </tr>\n",
       "    <tr>\n",
       "      <th>277</th>\n",
       "      <td>del</td>\n",
       "      <td>0.373127</td>\n",
       "    </tr>\n",
       "    <tr>\n",
       "      <th>342</th>\n",
       "      <td>del maa cok</td>\n",
       "      <td>0.000000</td>\n",
       "    </tr>\n",
       "    <tr>\n",
       "      <th>355</th>\n",
       "      <td>del udr bom cok</td>\n",
       "      <td>0.000000</td>\n",
       "    </tr>\n",
       "    <tr>\n",
       "      <th>354</th>\n",
       "      <td>del udr bom</td>\n",
       "      <td>0.000000</td>\n",
       "    </tr>\n",
       "    <tr>\n",
       "      <th>353</th>\n",
       "      <td>del udr</td>\n",
       "      <td>0.000000</td>\n",
       "    </tr>\n",
       "    <tr>\n",
       "      <th>352</th>\n",
       "      <td>del trv cok</td>\n",
       "      <td>0.000000</td>\n",
       "    </tr>\n",
       "    <tr>\n",
       "      <th>351</th>\n",
       "      <td>del trv</td>\n",
       "      <td>0.000000</td>\n",
       "    </tr>\n",
       "    <tr>\n",
       "      <th>350</th>\n",
       "      <td>del rpr nag bom</td>\n",
       "      <td>0.000000</td>\n",
       "    </tr>\n",
       "  </tbody>\n",
       "</table>\n",
       "</div>"
      ],
      "text/plain": [
       "                Word     Count\n",
       "68           blr del  0.803076\n",
       "35               blr  0.464591\n",
       "277              del  0.373127\n",
       "342      del maa cok  0.000000\n",
       "355  del udr bom cok  0.000000\n",
       "354      del udr bom  0.000000\n",
       "353          del udr  0.000000\n",
       "352      del trv cok  0.000000\n",
       "351          del trv  0.000000\n",
       "350  del rpr nag bom  0.000000"
      ]
     },
     "execution_count": 623,
     "metadata": {},
     "output_type": "execute_result"
    }
   ],
   "source": [
    "tfidf_vect.head(10)"
   ]
  },
  {
   "cell_type": "code",
   "execution_count": 624,
   "metadata": {
    "scrolled": true
   },
   "outputs": [],
   "source": [
    "dfs=pd.DataFrame(train_vect.toarray().tolist(),columns= tfidf.get_feature_names())\n",
    "#dfs_misc=pd.DataFrame(train_vect_misc.toarray().tolist(),columns= tfidf_misc.get_feature_names())"
   ]
  },
  {
   "cell_type": "code",
   "execution_count": 625,
   "metadata": {},
   "outputs": [],
   "source": [
    "combined_set.reset_index(drop=True,inplace=True)"
   ]
  },
  {
   "cell_type": "code",
   "execution_count": 626,
   "metadata": {},
   "outputs": [],
   "source": [
    "dfs.reset_index(drop=True,inplace=True)\n",
    "#dfs_misc.reset_index(drop=True,inplace=True)"
   ]
  },
  {
   "cell_type": "code",
   "execution_count": 627,
   "metadata": {},
   "outputs": [],
   "source": [
    "#dfs.values[dfs.values > 0] = 1\n"
   ]
  },
  {
   "cell_type": "code",
   "execution_count": 628,
   "metadata": {},
   "outputs": [],
   "source": [
    "combined_set= pd.concat([combined_set,dfs], axis=1)"
   ]
  },
  {
   "cell_type": "code",
   "execution_count": 629,
   "metadata": {
    "scrolled": true
   },
   "outputs": [],
   "source": [
    "#combined_set=combined_set.drop(['Route','Dep_Time','Arrival_Time','Duration','new_duration_min'],axis=1)\n",
    "combined_set=combined_set.drop(['Date_of_Journey','Route','Dep_Time','Arrival_Time','Duration','new_duration_min'],axis=1)\n"
   ]
  },
  {
   "cell_type": "code",
   "execution_count": 630,
   "metadata": {
    "scrolled": true
   },
   "outputs": [],
   "source": [
    "combined_set=pd.get_dummies(data=combined_set)"
   ]
  },
  {
   "cell_type": "code",
   "execution_count": 631,
   "metadata": {
    "scrolled": false
   },
   "outputs": [
    {
     "name": "stdout",
     "output_type": "stream",
     "text": [
      "<class 'pandas.core.frame.DataFrame'>\n",
      "RangeIndex: 13126 entries, 0 to 13125\n",
      "Columns: 563 entries, day to Additional_Info_Red-eye flight\n",
      "dtypes: float64(518), int32(7), int64(1), uint8(37)\n",
      "memory usage: 52.8 MB\n"
     ]
    }
   ],
   "source": [
    "combined_set.info()"
   ]
  },
  {
   "cell_type": "code",
   "execution_count": 632,
   "metadata": {},
   "outputs": [],
   "source": [
    "day_dummies = pd.get_dummies(combined_set.day, prefix='day')\n",
    "combined_set = pd.concat([combined_set,day_dummies], axis=1)\n",
    "month_dummies = pd.get_dummies(combined_set.month, prefix='month')\n",
    "combined_set = pd.concat([combined_set,month_dummies], axis=1)\n",
    "arr_hour_dummies = pd.get_dummies(combined_set.arr_hour, prefix='arr_hour')\n",
    "combined_set = pd.concat([combined_set,arr_hour_dummies], axis=1)\n",
    "#arr_min_dummies = pd.get_dummies(combined_set.arr_min, prefix='arr_min')\n",
    "#combined_set = pd.concat([combined_set,arr_min_dummies], axis=1)\n",
    "\n",
    "#is_arr_peak_dummies = pd.get_dummies(combined_set.is_arr_peak, prefix='is_peak')\n",
    "#combined_set = pd.concat([combined_set,is_arr_peak_dummies], axis=1)"
   ]
  },
  {
   "cell_type": "code",
   "execution_count": 633,
   "metadata": {},
   "outputs": [],
   "source": [
    "combined_set=combined_set.drop(['day','month','arr_hour'],axis=1)"
   ]
  },
  {
   "cell_type": "code",
   "execution_count": 634,
   "metadata": {
    "scrolled": true
   },
   "outputs": [
    {
     "name": "stdout",
     "output_type": "stream",
     "text": [
      "<class 'pandas.core.frame.DataFrame'>\n",
      "RangeIndex: 13126 entries, 0 to 13125\n",
      "Columns: 598 entries, dep_hour to arr_hour_23\n",
      "dtypes: float64(518), int32(4), int64(1), uint8(75)\n",
      "memory usage: 53.1 MB\n"
     ]
    }
   ],
   "source": [
    "combined_set.info()"
   ]
  },
  {
   "cell_type": "markdown",
   "metadata": {
    "colab_type": "text",
    "id": "gYToxz3a2Jf4"
   },
   "source": [
    "### Scaling dataset   <a id='pcalr'>"
   ]
  },
  {
   "cell_type": "code",
   "execution_count": 635,
   "metadata": {
    "colab": {},
    "colab_type": "code",
    "id": "4m785xRv2Jf4",
    "outputId": "18cdca9f-7884-44ac-f29e-ae04150d3402"
   },
   "outputs": [],
   "source": [
    "df_train = combined_set[:train_nomissing.shape[0]] # Up to the last initial training set row\n",
    "df_test = combined_set[train_nomissing.shape[0]:] # Past the last initial training set row"
   ]
  },
  {
   "cell_type": "code",
   "execution_count": 636,
   "metadata": {
    "colab": {},
    "colab_type": "code",
    "id": "4m785xRv2Jf4",
    "outputId": "18cdca9f-7884-44ac-f29e-ae04150d3402"
   },
   "outputs": [],
   "source": [
    "from sklearn.preprocessing import StandardScaler\n",
    "sc = StandardScaler()\n",
    "df_train_arr_scld = sc.fit_transform(df_train)\n",
    "df_train_scld=pd.DataFrame(df_train_arr_scld,columns=df_train.columns)\n",
    "df_test_arr_scld = sc.transform(df_test)\n",
    "df_test_scld=pd.DataFrame(df_test_arr_scld,columns=df_test.columns)"
   ]
  },
  {
   "cell_type": "code",
   "execution_count": 637,
   "metadata": {
    "colab": {},
    "colab_type": "code",
    "id": "4m785xRv2Jf4",
    "outputId": "18cdca9f-7884-44ac-f29e-ae04150d3402"
   },
   "outputs": [],
   "source": [
    "# Spitting the data into Test and Train from combined_set_scld\n",
    "\n",
    "#train = df_train_scld # Up to the last initial training set row\n",
    "#test = df_test_scld # Past the last initial training set row\n",
    "\n",
    "train = df_train # Up to the last initial training set row\n",
    "test = df_test # Past the last initial training set row\n",
    "labels = y_train\n"
   ]
  },
  {
   "cell_type": "code",
   "execution_count": 638,
   "metadata": {
    "colab": {},
    "colab_type": "code",
    "id": "4m785xRv2Jf4",
    "outputId": "18cdca9f-7884-44ac-f29e-ae04150d3402",
    "scrolled": false
   },
   "outputs": [
    {
     "data": {
      "text/plain": [
       "(10455, 598)"
      ]
     },
     "execution_count": 638,
     "metadata": {},
     "output_type": "execute_result"
    }
   ],
   "source": [
    "train.shape"
   ]
  },
  {
   "cell_type": "code",
   "execution_count": 639,
   "metadata": {
    "colab": {},
    "colab_type": "code",
    "id": "4m785xRv2Jf4",
    "outputId": "18cdca9f-7884-44ac-f29e-ae04150d3402"
   },
   "outputs": [
    {
     "data": {
      "text/plain": [
       "(2671, 598)"
      ]
     },
     "execution_count": 639,
     "metadata": {},
     "output_type": "execute_result"
    }
   ],
   "source": [
    "test.shape"
   ]
  },
  {
   "cell_type": "code",
   "execution_count": 640,
   "metadata": {
    "colab": {},
    "colab_type": "code",
    "id": "4m785xRv2Jf4",
    "outputId": "18cdca9f-7884-44ac-f29e-ae04150d3402"
   },
   "outputs": [],
   "source": [
    "# Keep one set of train data for further use\n",
    "train1=train.copy()\n",
    "test1=test.copy()\n",
    "y_train1=y_train.copy()"
   ]
  },
  {
   "cell_type": "code",
   "execution_count": 641,
   "metadata": {
    "colab": {},
    "colab_type": "code",
    "id": "4m785xRv2Jf4",
    "outputId": "18cdca9f-7884-44ac-f29e-ae04150d3402"
   },
   "outputs": [],
   "source": [
    "#train=train1\n",
    "#test=test1\n",
    "#y_train=y_train1"
   ]
  },
  {
   "cell_type": "markdown",
   "metadata": {},
   "source": [
    "### Let's start building models"
   ]
  },
  {
   "cell_type": "code",
   "execution_count": 642,
   "metadata": {},
   "outputs": [],
   "source": [
    "from sklearn.linear_model import ElasticNet, Lasso,  BayesianRidge, LassoLarsIC\n",
    "from sklearn.ensemble import RandomForestRegressor,  GradientBoostingRegressor\n",
    "from sklearn.kernel_ridge import KernelRidge\n",
    "from sklearn.pipeline import make_pipeline\n",
    "from sklearn.preprocessing import RobustScaler\n",
    "from sklearn.base import BaseEstimator, TransformerMixin, RegressorMixin, clone\n",
    "from sklearn.model_selection import KFold, cross_val_score, train_test_split\n",
    "from sklearn.metrics import mean_squared_error\n",
    "import xgboost as xgb\n",
    "import lightgbm as lgb\n",
    "from sklearn.linear_model import SGDRegressor\n",
    "from sklearn.svm import SVR"
   ]
  },
  {
   "cell_type": "markdown",
   "metadata": {
    "scrolled": false
   },
   "source": [
    "# Define a cross validation strategy"
   ]
  },
  {
   "cell_type": "code",
   "execution_count": 643,
   "metadata": {},
   "outputs": [],
   "source": [
    "#Validation function\n",
    "n_folds = 5\n",
    "\n",
    "def rmsle_cv(model):\n",
    "    kf = KFold(n_folds, shuffle=True, random_state=42).get_n_splits(train.values)\n",
    "    rmse= np.sqrt(-cross_val_score(model, train.values, y_train, scoring=\"neg_mean_squared_error\", cv = kf))\n",
    "    return(rmse)"
   ]
  },
  {
   "cell_type": "code",
   "execution_count": 644,
   "metadata": {},
   "outputs": [],
   "source": [
    "def rmsle(y, y_pred):\n",
    "    return np.sqrt(mean_squared_error(y, y_pred))"
   ]
  },
  {
   "cell_type": "markdown",
   "metadata": {
    "scrolled": false
   },
   "source": [
    "# Base models\n",
    "LASSO Regression :\n",
    "This model may be very sensitive to outliers. So we need to made it more robust on them. For that we use the sklearn's Robustscaler() method on pipeline"
   ]
  },
  {
   "cell_type": "markdown",
   "metadata": {
    "scrolled": false
   },
   "source": [
    "# SVR :"
   ]
  },
  {
   "cell_type": "markdown",
   "metadata": {
    "scrolled": false
   },
   "source": [
    "# XGBoost : :"
   ]
  },
  {
   "cell_type": "code",
   "execution_count": 711,
   "metadata": {},
   "outputs": [],
   "source": [
    "model_xgb = xgb.XGBRegressor(colsample_bytree=0.4603, gamma=0.03, \n",
    "                             learning_rate=0.065, max_depth=7, \n",
    "                             min_child_weight=1.7817, n_estimators=2200,\n",
    "                             reg_alpha=0, reg_lambda=1,\n",
    "                             subsample=0.55, silent=1,\n",
    "                             random_state =7, nthread = -1)"
   ]
  },
  {
   "cell_type": "markdown",
   "metadata": {},
   "source": [
    "model_xgb = xgb.XGBRegressor(colsample_bytree=0.4603, gamma=0.0468, \n",
    "                             learning_rate=0.08, max_depth=7, \n",
    "                             min_child_weight=1.7817, n_estimators=2200,\n",
    "                             reg_alpha=0, reg_lambda=1,\n",
    "                             subsample=0.5213, silent=1,\n",
    "                             random_state =7, nthread = -1)"
   ]
  },
  {
   "cell_type": "code",
   "execution_count": 712,
   "metadata": {
    "scrolled": false
   },
   "outputs": [
    {
     "name": "stdout",
     "output_type": "stream",
     "text": [
      "487.73232939976225\n"
     ]
    }
   ],
   "source": [
    "model_xgb.fit(train, y_train)\n",
    "xgb_train_pred = model_xgb.predict(train)\n",
    "xgb_pred = model_xgb.predict(test)\n",
    "print(rmsle(y_train, xgb_train_pred))"
   ]
  },
  {
   "cell_type": "code",
   "execution_count": 713,
   "metadata": {
    "colab": {},
    "colab_type": "code",
    "id": "WCs9o0xt3Zfi"
   },
   "outputs": [],
   "source": [
    "price_XG_pred = pd.DataFrame(xgb_pred)"
   ]
  },
  {
   "cell_type": "code",
   "execution_count": 714,
   "metadata": {
    "colab": {},
    "colab_type": "code",
    "id": "WCs9o0xt3Zfi",
    "scrolled": true
   },
   "outputs": [],
   "source": [
    "price_XG_pred.to_excel('price_test_reslt_xgb1.xlsx')"
   ]
  },
  {
   "cell_type": "markdown",
   "metadata": {
    "scrolled": false
   },
   "source": [
    "# Light GBM : :"
   ]
  },
  {
   "cell_type": "code",
   "execution_count": 723,
   "metadata": {},
   "outputs": [],
   "source": [
    "model_lgb = lgb.LGBMRegressor(objective='regression',num_leaves=31,\n",
    "                              learning_rate=0.05, n_estimators=2800,feature_fraction = 0.75,\n",
    "                              feature_fraction_seed=9,min_data_in_leaf =15\n",
    "                                                         \n",
    "                              )"
   ]
  },
  {
   "cell_type": "markdown",
   "metadata": {},
   "source": [
    "model_lgb = lgb.LGBMRegressor(objective='regression',num_leaves=5,\n",
    "                              learning_rate=0.08, n_estimators=3000,\n",
    "                              max_bin = 55, bagging_fraction = 0.8,\n",
    "                              bagging_freq = 5, feature_fraction = 0.2319,\n",
    "                              feature_fraction_seed=9, bagging_seed=9,\n",
    "                              min_data_in_leaf =6, min_sum_hessian_in_leaf = 11)"
   ]
  },
  {
   "cell_type": "code",
   "execution_count": 724,
   "metadata": {},
   "outputs": [],
   "source": [
    "model_lgb.fit(train, y_train)\n",
    "lgb_train_pred = model_lgb.predict(train)"
   ]
  },
  {
   "cell_type": "code",
   "execution_count": 725,
   "metadata": {
    "scrolled": false
   },
   "outputs": [
    {
     "name": "stdout",
     "output_type": "stream",
     "text": [
      "616.0780837332228\n"
     ]
    }
   ],
   "source": [
    "print(rmsle(y_train, lgb_train_pred))"
   ]
  },
  {
   "cell_type": "code",
   "execution_count": 726,
   "metadata": {},
   "outputs": [],
   "source": [
    "lgb_pred = model_lgb.predict(test.values)"
   ]
  },
  {
   "cell_type": "code",
   "execution_count": 727,
   "metadata": {
    "colab": {},
    "colab_type": "code",
    "id": "WCs9o0xt3Zfi"
   },
   "outputs": [],
   "source": [
    "price_pred_lgb = pd.DataFrame(lgb_pred)"
   ]
  },
  {
   "cell_type": "code",
   "execution_count": 728,
   "metadata": {
    "colab": {},
    "colab_type": "code",
    "id": "WCs9o0xt3Zfi"
   },
   "outputs": [],
   "source": [
    "price_pred_lgb.to_excel('price_test_reslt_lgbm.xlsx')"
   ]
  },
  {
   "cell_type": "markdown",
   "metadata": {},
   "source": [
    "# Ensemble prediction:"
   ]
  },
  {
   "cell_type": "code",
   "execution_count": 729,
   "metadata": {},
   "outputs": [],
   "source": [
    "ens_train =  xgb_train_pred*0.25 + lgb_train_pred*0.75"
   ]
  },
  {
   "cell_type": "code",
   "execution_count": 730,
   "metadata": {
    "colab": {},
    "colab_type": "code",
    "id": "WCs9o0xt3Zfi"
   },
   "outputs": [],
   "source": [
    "ens_train_pd = pd.DataFrame(ens_train)"
   ]
  },
  {
   "cell_type": "code",
   "execution_count": 731,
   "metadata": {
    "colab": {},
    "colab_type": "code",
    "id": "WCs9o0xt3Zfi"
   },
   "outputs": [],
   "source": [
    "ens_train_pd.to_excel('ens_train_pd.xlsx')"
   ]
  },
  {
   "cell_type": "code",
   "execution_count": 732,
   "metadata": {
    "scrolled": false
   },
   "outputs": [
    {
     "name": "stdout",
     "output_type": "stream",
     "text": [
      "RMSLE score on train data:\n",
      "589.0347919964128\n"
     ]
    }
   ],
   "source": [
    "\n",
    "'''RMSE on the entire Train data when averaging'''\n",
    "\n",
    "print('RMSLE score on train data:')\n",
    "print(rmsle(y_train,xgb_train_pred*0.15 +lgb_train_pred*0.85 ))"
   ]
  },
  {
   "cell_type": "code",
   "execution_count": 733,
   "metadata": {},
   "outputs": [],
   "source": [
    "#ensemble = stacked_pred*0.15 + xgb_pred*0.5 + gb_pred*0.35\n",
    "\n",
    "ensemble =  xgb_pred*0.15 + lgb_pred*0.85"
   ]
  },
  {
   "cell_type": "code",
   "execution_count": 734,
   "metadata": {
    "scrolled": true
   },
   "outputs": [
    {
     "data": {
      "text/plain": [
       "array([14469.20700155,  4401.2960876 , 12771.42126769, ...,\n",
       "       16246.62038869, 12917.82069704,  7818.14653448])"
      ]
     },
     "execution_count": 734,
     "metadata": {},
     "output_type": "execute_result"
    }
   ],
   "source": [
    "ensemble"
   ]
  },
  {
   "cell_type": "code",
   "execution_count": 735,
   "metadata": {
    "colab": {},
    "colab_type": "code",
    "id": "WCs9o0xt3Zfi"
   },
   "outputs": [],
   "source": [
    "price_pred_ensb = pd.DataFrame(ensemble)"
   ]
  },
  {
   "cell_type": "code",
   "execution_count": 736,
   "metadata": {
    "colab": {},
    "colab_type": "code",
    "id": "WCs9o0xt3Zfi",
    "scrolled": true
   },
   "outputs": [],
   "source": [
    "price_pred_ensb.to_excel('price_test_reslt_ensb1.xlsx')"
   ]
  },
  {
   "cell_type": "code",
   "execution_count": null,
   "metadata": {},
   "outputs": [],
   "source": []
  },
  {
   "cell_type": "code",
   "execution_count": null,
   "metadata": {},
   "outputs": [],
   "source": []
  },
  {
   "cell_type": "code",
   "execution_count": null,
   "metadata": {},
   "outputs": [],
   "source": []
  },
  {
   "cell_type": "code",
   "execution_count": null,
   "metadata": {},
   "outputs": [],
   "source": []
  },
  {
   "cell_type": "code",
   "execution_count": null,
   "metadata": {},
   "outputs": [],
   "source": []
  }
 ],
 "metadata": {
  "kernelspec": {
   "display_name": "Python 3",
   "language": "python",
   "name": "python3"
  },
  "language_info": {
   "codemirror_mode": {
    "name": "ipython",
    "version": 3
   },
   "file_extension": ".py",
   "mimetype": "text/x-python",
   "name": "python",
   "nbconvert_exporter": "python",
   "pygments_lexer": "ipython3",
   "version": "3.6.5"
  }
 },
 "nbformat": 4,
 "nbformat_minor": 2
}
